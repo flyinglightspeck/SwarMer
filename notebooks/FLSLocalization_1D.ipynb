{
  "nbformat": 4,
  "nbformat_minor": 0,
  "metadata": {
    "colab": {
      "provenance": [],
      "authorship_tag": "ABX9TyN7T5vHPjVSmXzBBJHTc6uZ",
      "include_colab_link": true
    },
    "kernelspec": {
      "name": "python3",
      "display_name": "Python 3"
    },
    "language_info": {
      "name": "python"
    }
  },
  "cells": [
    {
      "cell_type": "markdown",
      "metadata": {
        "id": "view-in-github",
        "colab_type": "text"
      },
      "source": [
        "<a href=\"https://colab.research.google.com/github/Hamedamz/fls-localization/blob/main/notebooks/FLSLocalization_1D.ipynb\" target=\"_parent\"><img src=\"https://colab.research.google.com/assets/colab-badge.svg\" alt=\"Open In Colab\"/></a>"
      ]
    },
    {
      "cell_type": "code",
      "source": [
        "from math import sqrt\n",
        "import random\n",
        "import matplotlib.pyplot as plt\n",
        "import numpy as np\n",
        "from time import sleep"
      ],
      "metadata": {
        "id": "yl-KTf-F3UuS"
      },
      "execution_count": null,
      "outputs": []
    },
    {
      "cell_type": "code",
      "source": [
        "point_cloud_1 = {(10,)}\n",
        "point_cloud_2 = {(10,), (11,)}\n",
        "point_cloud_3 = {(10,), (12,)}\n",
        "point_cloud_4 = {(10,), (11,), (12,)}\n",
        "point_cloud_5 = {(10,), (11,), (13,)}\n",
        "point_cloud_6 = {(10,), (11,), (12,), (13,)}\n",
        "point_cloud_7 = {(10,), (11,), (13,), (14,)}"
      ],
      "metadata": {
        "id": "ORcmR1rU1oGz"
      },
      "execution_count": null,
      "outputs": []
    },
    {
      "cell_type": "code",
      "source": [
        "screen = {}\n",
        "display_cell_size = 1\n",
        "_V = True"
      ],
      "metadata": {
        "id": "CE2LcCAl2wIZ"
      },
      "execution_count": null,
      "outputs": []
    },
    {
      "cell_type": "markdown",
      "source": [
        "# Utils"
      ],
      "metadata": {
        "id": "cEhrCsgSbBB-"
      }
    },
    {
      "cell_type": "code",
      "source": [
        "def get_coord_id(coord):\n",
        "  return'.'.join(map(str, coord))"
      ],
      "metadata": {
        "id": "9Mz5gKCAa_AU"
      },
      "execution_count": null,
      "outputs": []
    },
    {
      "cell_type": "code",
      "source": [
        "def get_distance(coord_1, coord_2):\n",
        "  delta = [coord_1[i] - coord_2[i] for i in range(len(coord_1))]\n",
        "  return sqrt(sum([d**2 for d in delta]))"
      ],
      "metadata": {
        "id": "cz-NTGo5bI5J"
      },
      "execution_count": null,
      "outputs": []
    },
    {
      "cell_type": "markdown",
      "source": [],
      "metadata": {
        "id": "6PAtOZewbDwc"
      }
    },
    {
      "cell_type": "markdown",
      "source": [
        "# Step 1\n",
        "\n",
        "FLS estimates its display cell relative to the coordinates of its dispatcher and flight trajectory.\n",
        "\n",
        "How?\n",
        "Pick a random angle once at the start at the dispatcher:\n",
        "* Pick a circle with a fixed radius centered on the destination at the trajectory of the straight line from the dispatcher\n",
        "* Select a random point in the circle\n",
        "* Travel from the dispatcher to the random point using the distance to the real destination. \n",
        "\n",
        "Notes:\n",
        "* Accuracy is dependent on the radius of the circle.\n",
        "* Radius r can be a function of distance"
      ],
      "metadata": {
        "id": "-v2PylB2OqQe"
      }
    },
    {
      "cell_type": "code",
      "execution_count": null,
      "metadata": {
        "id": "OoHEBLxK0Pqi"
      },
      "outputs": [],
      "source": [
        "dispatcher_error_percent = 5 #@param {type:\"slider\", min:0, max:100, step:1}\n",
        "dispatcher_location = (0, 0, 0)"
      ]
    },
    {
      "cell_type": "code",
      "source": [
        "def get_error_radius(distance):\n",
        "  return dispatcher_error_percent * distance / 100.0"
      ],
      "metadata": {
        "id": "yysMZvPb4S9k"
      },
      "execution_count": null,
      "outputs": []
    },
    {
      "cell_type": "code",
      "source": [
        "def dispatch(point_cloud, error_function=get_error_radius, dispatcher_location=dispatcher_location):\n",
        "  global screen\n",
        "\n",
        "  screen.clear()\n",
        "  for i, point in enumerate(point_cloud):\n",
        "    distance = get_distance(point, dispatcher_location)\n",
        "    e = error_function(distance)\n",
        "    id = get_coord_id(point)\n",
        "    fls = {\n",
        "        \"id\": id,\n",
        "        \"el\": (distance + random.uniform(-e, e),),\n",
        "        \"gtl\": point,\n",
        "    }\n",
        "    screen[id] = fls\n"
      ],
      "metadata": {
        "id": "ovKHfYzV28JG"
      },
      "execution_count": null,
      "outputs": []
    },
    {
      "cell_type": "code",
      "source": [
        "def show_plot(screen, show_gtl=True):\n",
        "  fig, ax = plt.subplots()\n",
        "\n",
        "  if show_gtl:\n",
        "    points = [fls[\"gtl\"] for fls in screen.values()]\n",
        "    px = [p[0] for p in points]\n",
        "    py = [0 for p in points]\n",
        "    ax.scatter(px, py, label=\"ground truth\")\n",
        "\n",
        "\n",
        "  points = [fls[\"el\"] for fls in screen.values()]\n",
        "  x = [p[0] for p in points]\n",
        "  y = [0 for p in points]\n",
        "\n",
        "  ax.scatter(x, y, label=\"estimated\")\n",
        "  ax.set(xlim=(8, 15))\n",
        "\n",
        "  plt.legend()\n",
        "  plt.grid()\n",
        "  plt.show()"
      ],
      "metadata": {
        "id": "lx3xW8biDr4O"
      },
      "execution_count": null,
      "outputs": []
    },
    {
      "cell_type": "code",
      "source": [
        "dispatch(point_cloud_7)\n",
        "show_plot(screen, point_cloud_7)"
      ],
      "metadata": {
        "colab": {
          "base_uri": "https://localhost:8080/",
          "height": 265
        },
        "id": "cei1ti_H3q2J",
        "outputId": "1bc3ccb7-75aa-43d1-c58d-1782c1cb4744"
      },
      "execution_count": null,
      "outputs": [
        {
          "output_type": "display_data",
          "data": {
            "text/plain": [
              "<Figure size 432x288 with 1 Axes>"
            ],
            "image/png": "[encoded data removed]"
          },
          "metadata": {
            "needs_background": "light"
          }
        }
      ]
    },
    {
      "cell_type": "markdown",
      "source": [
        "# Step 2\n",
        "\n",
        "Assume that an FLS may communicate with a fixed number of display cells away. Receiving FLSs respond back sending their ground truch location with some confidence in their location.\n",
        "\n",
        "**Definitions:**\n",
        "* A **communication sphere** has a radius equal to the distance from the display cell to the farthest corner cube.\n",
        "* We use the ground truth location (**GTL**)  for where the FLS must be positioned. \n",
        "* We use estimated location (**EL**) for the current location of an FLS.  \n",
        "\n",
        "**Assumptions:**\n",
        "* The dispatcher/orchestrator tells the FLS **when** its neighbors will arrive.\n",
        "\n"
      ],
      "metadata": {
        "id": "9LV9Tv7lOvwC"
      }
    },
    {
      "cell_type": "markdown",
      "source": [
        "## Case 1\n",
        "\n",
        "An FLS might be inside the GTL communication sphere and not communicate with its neighboring FLSs.\n",
        "\n",
        "**Possible sources of error:** Packet loss (ignored for now), outside the range because of the error introduced by the EL sphere (with no packet loss), the neighboring FLS has either not arrived yet or not dispatched yet.\n",
        "\n",
        "\n",
        "\n",
        "---\n",
        "\n",
        "\n",
        "Why is Case 1 important to consider? \n",
        "\n",
        "The requesting FLS may be farther than it should be from the FLS that is inside the GTL cube and has not responded.\n",
        "\n",
        "\n",
        "---\n",
        "\n",
        "What happens in Case 1?\n",
        "\n",
        "The FLS should adjust its location to get closer to the missing neighboring FLSs that should be inside the GTL sphere.  The neighboring FLSs may not be inside the GTL because they are also estimating their location.  \n",
        "\n",
        "How?\n",
        "* When error as a function of distance is known then explore the surface of a sphere to find the correct location. Keep track of the actions taken to handle other cases.\n",
        "* When the error function is unknown explore the surface of a sphere with radius as a function of the display cell, select a radius based on messages received from neighboring FLSs (see interaction of Case 1 with 2). \n",
        "\n"
      ],
      "metadata": {
        "id": "vh2TAK3IRXO-"
      }
    },
    {
      "cell_type": "code",
      "source": [
        "glt_dxs = [\n",
        "    [-1, 1],\n",
        "    [-1, 0, 1, 1, 1, 0, -1, -1],\n",
        "]\n",
        "\n",
        "glt_dys = [\n",
        "    [0, 0],\n",
        "    [-1, -1, -1, 0, 1, 1, 1, 0],\n",
        "]\n",
        "\n",
        "def get_gtl_neighbors(id):\n",
        "  if not id in screen:\n",
        "    return {}\n",
        "\n",
        "  fls = screen[id]\n",
        "\n",
        "  neighbors = {}\n",
        "\n",
        "  for dx in glt_dxs[0]:\n",
        "    neighbor_id = get_coord_id((fls[\"gtl\"][0] + dx,))\n",
        "\n",
        "    if neighbor_id in screen:\n",
        "      neighbors[neighbor_id] = screen[neighbor_id]\n",
        "\n",
        "  return neighbors\n"
      ],
      "metadata": {
        "id": "RUr7GmExOSJU"
      },
      "execution_count": null,
      "outputs": []
    },
    {
      "cell_type": "code",
      "source": [
        "el_dxs = [\n",
        "    [-1, 1],\n",
        "    [-1, 0, 1, 1, 1, 0, -1, -1],\n",
        "]\n",
        "\n",
        "el_dys = [\n",
        "    [0, 0],\n",
        "    [-1, -1, -1, 0, 1, 1, 1, 0],\n",
        "]\n",
        "\n",
        "def get_el_neighbors(id):\n",
        "  if not id in screen:\n",
        "    return {}\n",
        "\n",
        "  fls = screen[id]\n",
        "\n",
        "  neighbors = {}\n",
        "\n",
        "  for dx in el_dxs[0]:\n",
        "    neighbor_id = get_coord_id((fls[\"gtl\"][0] + dx,))\n",
        "\n",
        "    if neighbor_id in screen:\n",
        "      neighbor = screen[neighbor_id]\n",
        "      distance = get_distance(fls[\"el\"], neighbor[\"el\"])\n",
        "      if distance <= display_cell_size:\n",
        "        neighbors[neighbor_id] = screen[neighbor_id]\n",
        "\n",
        "  return neighbors"
      ],
      "metadata": {
        "id": "RNohnQStZL_7"
      },
      "execution_count": null,
      "outputs": []
    },
    {
      "cell_type": "code",
      "source": [
        "def get_expected_neighbors(id):\n",
        "  gtl_neighbors = get_gtl_neighbors(id)\n",
        "  el_neighbors = get_el_neighbors(id)\n",
        "\n",
        "  expected_neighbors = set(gtl_neighbors) - set(el_neighbors)\n",
        "\n",
        "  if _V and len(expected_neighbors):\n",
        "    print(f\"FLS {id} expects {expected_neighbors} to be its neighbor.\") \n",
        "\n",
        "  return expected_neighbors"
      ],
      "metadata": {
        "id": "h3_bkkpmiPeF"
      },
      "execution_count": null,
      "outputs": []
    },
    {
      "cell_type": "code",
      "source": [
        "def get_unexpected_neighbors(id):\n",
        "  gtl_neighbors = get_gtl_neighbors(id)\n",
        "  el_neighbors = get_el_neighbors(id)\n",
        "\n",
        "  unexpected_neighbors = set(el_neighbors) - set(gtl_neighbors)\n",
        "\n",
        "  if _V and len(unexpected_neighbors):\n",
        "    print(f\"FLS {id} dosn't expect {unexpected_neighbors} to be its neighbor.\") \n",
        "\n",
        "  return unexpected_neighbors"
      ],
      "metadata": {
        "id": "CEtF5o7pjkv7"
      },
      "execution_count": null,
      "outputs": []
    },
    {
      "cell_type": "code",
      "source": [
        "screen"
      ],
      "metadata": {
        "colab": {
          "base_uri": "https://localhost:8080/"
        },
        "id": "15zGBP2whOBy",
        "outputId": "bd3a1ab7-aa80-443e-856c-eb1d382dba69"
      },
      "execution_count": null,
      "outputs": [
        {
          "output_type": "execute_result",
          "data": {
            "text/plain": [
              "{'10': {'id': '10', 'el': (9.782188232650604,), 'gtl': (10,)},\n",
              " '13': {'id': '13', 'el': (12.587884736811075,), 'gtl': (13,)},\n",
              " '11': {'id': '11', 'el': (10.682975468814549,), 'gtl': (11,)},\n",
              " '14': {'id': '14', 'el': (13.863053707278652,), 'gtl': (14,)}}"
            ]
          },
          "metadata": {},
          "execution_count": 1022
        }
      ]
    },
    {
      "cell_type": "code",
      "source": [
        "adjusting_flss = {}\n",
        "print(\"Initial positions:\")\n",
        "show_plot(screen)\n",
        "\n",
        "while True:\n",
        "  for id, fls in screen.items():\n",
        "    expected_neighbors = get_expected_neighbors(id)\n",
        "    # unexpected_neighbors = get_unexpected_neighbors(id)\n",
        "\n",
        "    faults = len(expected_neighbors);\n",
        "\n",
        "    if id in adjusting_flss:\n",
        "      if faults < adjusting_flss[id][\"faults\"]:\n",
        "        adjusting_flss[id][\"best_location\"] = fls[\"el\"]\n",
        "    elif faults:\n",
        "      if id < min(expected_neighbors):\n",
        "        adjusting_flss[id] = {\n",
        "            \"path\": [(fls[\"el\"][0] + 0.5,), (fls[\"el\"][0] - 0.5,)],\n",
        "            \"best_location\": fls[\"el\"],\n",
        "            \"faults\": len(expected_neighbors)\n",
        "        }\n",
        "\n",
        "        if _V:\n",
        "          print(f\"FLS {id} is adjusting.\")\n",
        "\n",
        "      elif _V:\n",
        "          print(f\"FLS {id} is waiting.\")\n",
        "\n",
        "  if len(adjusting_flss):\n",
        "    for id in list(adjusting_flss.keys()):\n",
        "      if len(adjusting_flss[id][\"path\"]):\n",
        "        screen[id][\"el\"] = adjusting_flss[id][\"path\"].pop()\n",
        "      else:\n",
        "        screen[id][\"el\"] = adjusting_flss[id][\"best_location\"]\n",
        "        del adjusting_flss[id]\n",
        "\n",
        "  show_plot(screen)\n",
        "\n",
        "  if not len(adjusting_flss):\n",
        "    break\n",
        "  \n"
      ],
      "metadata": {
        "colab": {
          "base_uri": "https://localhost:8080/",
          "height": 1000
        },
        "id": "a15KSIwxkwCS",
        "outputId": "ea0dc88c-002c-49e9-932f-8efac043e8fc"
      },
      "execution_count": null,
      "outputs": [
        {
          "output_type": "stream",
          "name": "stdout",
          "text": [
            "Initial positions:\n"
          ]
        },
        {
          "output_type": "display_data",
          "data": {
            "text/plain": [
              "<Figure size 432x288 with 1 Axes>"
            ],
            "image/png": "[encoded data removed]"
          },
          "metadata": {
            "needs_background": "light"
          }
        },
        {
          "output_type": "stream",
          "name": "stdout",
          "text": [
            "FLS 13 expects {'14'} to be its neighbor.\n",
            "FLS 13 is adjusting.\n",
            "FLS 14 expects {'13'} to be its neighbor.\n",
            "FLS 14 is waiting.\n"
          ]
        },
        {
          "output_type": "display_data",
          "data": {
            "text/plain": [
              "<Figure size 432x288 with 1 Axes>"
            ],
            "image/png": "[encoded data removed]"
          },
          "metadata": {
            "needs_background": "light"
          }
        },
        {
          "output_type": "stream",
          "name": "stdout",
          "text": [
            "FLS 13 expects {'14'} to be its neighbor.\n",
            "FLS 14 expects {'13'} to be its neighbor.\n",
            "FLS 14 is waiting.\n"
          ]
        },
        {
          "output_type": "display_data",
          "data": {
            "text/plain": [
              "<Figure size 432x288 with 1 Axes>"
            ],
            "image/png": "[encoded data removed]"
          },
          "metadata": {
            "needs_background": "light"
          }
        },
        {
          "output_type": "display_data",
          "data": {
            "text/plain": [
              "<Figure size 432x288 with 1 Axes>"
            ],
            "image/png": "[encoded data removed]"
          },
          "metadata": {
            "needs_background": "light"
          }
        }
      ]
    },
    {
      "cell_type": "code",
      "source": [
        "screen"
      ],
      "metadata": {
        "colab": {
          "base_uri": "https://localhost:8080/"
        },
        "id": "v6eVU1ZtELdH",
        "outputId": "11cd4bd5-e342-4297-e60e-6a389b94adc5"
      },
      "execution_count": null,
      "outputs": [
        {
          "output_type": "execute_result",
          "data": {
            "text/plain": [
              "{'10': {'id': '10', 'el': (9.782188232650604,), 'gtl': (10,)},\n",
              " '13': {'id': '13', 'el': (13.087884736811075,), 'gtl': (13,)},\n",
              " '11': {'id': '11', 'el': (10.682975468814549,), 'gtl': (11,)},\n",
              " '14': {'id': '14', 'el': (13.863053707278652,), 'gtl': (14,)}}"
            ]
          },
          "metadata": {},
          "execution_count": 1024
        }
      ]
    }
  ]
}